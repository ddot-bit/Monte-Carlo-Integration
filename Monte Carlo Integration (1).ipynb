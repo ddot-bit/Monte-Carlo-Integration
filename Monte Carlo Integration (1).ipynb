{
 "cells": [
  {
   "cell_type": "code",
   "execution_count": 15,
   "metadata": {},
   "outputs": [],
   "source": [
    "%matplotlib inline\n",
    "import matplotlib.pyplot as plt\n",
    "import numpy as np\n",
    "from urllib.request import urlopen\n",
    "import re\n",
    "import ipywidgets as widgets\n",
    "from IPython.display import display, Markdown\n",
    "import random"
   ]
  },
  {
   "cell_type": "markdown",
   "metadata": {},
   "source": [
    "# Numerical Method: Monte Carlo Integration"
   ]
  },
  {
   "cell_type": "markdown",
   "metadata": {},
   "source": [
    "Using simulations and the law of large numbers, it is possible to numerically itegrate funtions using a Monte Carlo simlulation. This process becomes practically useful when situations require integrating higher dimensional functions such as a vector valued function $$ F(X) $$ where the vector X resides in a Nth(finite) dimensional space. \n",
    "\n",
    "To start, observing the $R^1$ case will develop intuition into constructing a Monte Carlo Integral. The average value of a function can be captured by an integral which can be observed as $$ \\sigma(f) = \\dfrac{1}{b-a} \\int_{a}^{b} f(x) \\, dx$$ where $\\sigma$ is the average value of the function.\n",
    "\n",
    "Where Monte Carlo comes in, is to simulate the process of integrating a function by approximating its partial sums, and by using the property of the law of large numbers, the integrated function's value will equal the long term average value of the function. Thus, the Monte Carlo Integral $$MCI = \\dfrac{b-a}{N} \\sum_{n=1}^{N} f(x_n) \\approx \\int_{a}^{b} f(x) \\, dx$$ where N is the total number of partial sums."
   ]
  },
  {
   "cell_type": "markdown",
   "metadata": {},
   "source": [
    "Prior to running the Monte Carlo Simulation properly, the helper function constructed below is desined to test if the Monte Carlo integration is working properly."
   ]
  },
  {
   "cell_type": "code",
   "execution_count": 16,
   "metadata": {},
   "outputs": [],
   "source": [
    "def integral_peram_check(fn, lower_bound, upper_bound):\n",
    "    \"\"\"This function's purpose is to simply check if the proper arguments are passed into a function.\n",
    "    \"\"\"\n",
    "    from math import isinf \n",
    "    assert isinf(lower_bound) is not True and isinf(upper_bound) is not True, \"DomainError: Improper integrals have not been implemented yet\" \n",
    "    \n",
    "    try:\n",
    "        fn(lower_bound)\n",
    "    except ZeroDivisionError as sing:\n",
    "        return 'Lower bound created singularity: {0}'.format(type(sing))\n",
    "        \n",
    "    try:    \n",
    "        fn(upper_bound)\n",
    "    except ZeroDivisionError as sing:\n",
    "        return 'Upper bound created singularity: {0}'.format(type(sing))\n",
    "    \n",
    "    return True"
   ]
  },
  {
   "cell_type": "code",
   "execution_count": 18,
   "metadata": {},
   "outputs": [],
   "source": [
    "def generate_random_points(a, b, limit):\n",
    "    \"\"\" This function takes in parameters to construct random values within a specified interval. The number of \n",
    "        random values are determinted by the limit parameter.\n",
    "    \"\"\"\n",
    "    interval_points = make_array()\n",
    "    for points in np.arange(limit):\n",
    "        random_val = random.uniform(a, b)\n",
    "        interval_points = np.append(interval_points, random_val)\n",
    "    return interval_points\n",
    "\n",
    "def monte_carlo_integration(fn, lower_bound, upper_bound, limit, points=None):\n",
    "    \"\"\" This function performs monte carlo integration over a given interval \n",
    "        using random points within the specified bounds.\n",
    "    \"\"\"\n",
    "    potental_error = integral_peram_check(fn, lower_bound, upper_bound)\n",
    "    assert potental_error is True, repr(potental_error) \n",
    "    \n",
    "    interval_points = generate_random_points(lower_bound, upper_bound, limit)\n",
    "    partial_sum = np.sum(list(map(fn, interval_points)))\n",
    "    monte_carlo_integral = ((upper_bound - lower_bound) / limit) * partial_sum\n",
    "    return monte_carlo_integral\n",
    "\n",
    "def simulate_mcarlo_integration(fn, lower_bound, upper_bound, limit, simulations=1000):\n",
    "    \"\"\" For a specified number of simulations, this function performs monte carlo integration\n",
    "        and stores the results from each simulation into an array.\n",
    "    \"\"\"\n",
    "    potental_error = integral_peram_check(fn, lower_bound, upper_bound)\n",
    "    assert potental_error is True, repr(potental_error) \n",
    "    \n",
    "    simulated_mcarlo_integration = make_array()\n",
    "    for mc_simulation in range(simulations):\n",
    "        interval_points = generate_random_points(lower_bound, upper_bound, limit)\n",
    "        partial_sum = np.sum(list(map(fn, interval_points)))\n",
    "        simulated_mcarlo_integration = np.append(simulated_mcarlo_integration,\n",
    "                                                (upper_bound - lower_bound) / limit * partial_sum)\n",
    "    return simulated_mcarlo_integration"
   ]
  },
  {
   "cell_type": "code",
   "execution_count": 19,
   "metadata": {},
   "outputs": [
    {
     "name": "stdout",
     "output_type": "stream",
     "text": [
      "Observed Monte Carlo Integral value: 1.9682639596021607\n"
     ]
    }
   ],
   "source": [
    "sine_fn = lambda x: (1/np.pi) * x * np.sin(x) # fourier transform when n=1\n",
    "lower_bound = -np.pi\n",
    "upper_bound = np.pi\n",
    "limit = 1000\n",
    "observed_mcarlo_integral = monte_carlo_integration(sine_fn, lower_bound, upper_bound, limit)\n",
    "print(\"Observed Monte Carlo Integral value: {0}\".format(observed_mcarlo_integral))"
   ]
  },
  {
   "cell_type": "code",
   "execution_count": 12,
   "metadata": {},
   "outputs": [],
   "source": [
    "mc_integral = simulate_mcarlo_integration(sine_fn, lower_bound, upper_bound, limit)"
   ]
  },
  {
   "cell_type": "code",
   "execution_count": 20,
   "metadata": {},
   "outputs": [
    {
     "data": {
      "image/png": "[encoded data removed]",
      "text/plain": [
       "<Figure size 432x288 with 1 Axes>"
      ]
     },
     "metadata": {
      "needs_background": "light"
     },
     "output_type": "display_data"
    }
   ],
   "source": [
    "plt.hist(mc_integral, bins=30)\n",
    "plt.title('Simulations of MC Integration')\n",
    "plt.scatter(observed_mcarlo_integral, -0.5, color='red')\n",
    "plt.scatter(np.mean(mc_integral), -0.5, color='black');\n",
    "# Table().with_column('Monte Carlo Integral', mc_integral).hist()"
   ]
  },
  {
   "cell_type": "code",
   "execution_count": 21,
   "metadata": {},
   "outputs": [
    {
     "name": "stdout",
     "output_type": "stream",
     "text": [
      "We are 95% confident that the value of the Monte Carlo Integral is within [1.922, 2.074]\n",
      "The empirical mean of the Monte Carlo Integral is 1.999\n",
      "The observed error between the original MCI and EMCI is 0.031\n"
     ]
    }
   ],
   "source": [
    "# Construct CI at 95%\n",
    "lower_CI = percentile(2.5, mc_integral)\n",
    "upper_CI = percentile(97.5, mc_integral)\n",
    "print(\"We are 95% confident that the value of the Monte Carlo Integral is within [{0}, {1}]\".format(round(lower_CI, 3), round(upper_CI, 3)))\n",
    "print(\"The empirical mean of the Monte Carlo Integral is {0}\".format(round(np.mean(mc_integral), 3)))\n",
    "print(\"The observed error between the original MCI and EMCI is {0}\".format(round(abs(np.mean(mc_integral)-np.mean(observed_mcarlo_integral)), 3)))"
   ]
  }
 ],
 "metadata": {
  "kernelspec": {
   "display_name": "Python 3",
   "language": "python",
   "name": "python3"
  },
  "language_info": {
   "codemirror_mode": {
    "name": "ipython",
    "version": 3
   },
   "file_extension": ".py",
   "mimetype": "text/x-python",
   "name": "python",
   "nbconvert_exporter": "python",
   "pygments_lexer": "ipython3",
   "version": "3.8.6"
  }
 },
 "nbformat": 4,
 "nbformat_minor": 4
}
